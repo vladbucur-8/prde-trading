{
 "cells": [
  {
   "cell_type": "code",
   "execution_count": null,
   "metadata": {},
   "outputs": [],
   "source": [
    "import matplotlib.pyplot as plt\n",
    "import numpy as np\n",
    "import csv\n",
    "import math\n",
    "import random\n",
    "\n",
    "from BSE import market_session\n",
    "\n",
    "tdump=open('new.csv','w')\n",
    "trial_id = 'test'\n",
    "dump_all = True\n",
    "verbose = False\n",
    "\n",
    "sup_range = (60, 60)\n",
    "dem_range = (140, 140)\n",
    "start_time = 0 \n",
    "end_time = 60 * 60 * 24 * 5\n",
    "\n",
    "supply_schedule = [{'from': start_time, 'to': end_time, 'ranges': [sup_range], 'stepmode': 'fixed'}]\n",
    "demand_schedule = [{'from': start_time, 'to': end_time, 'ranges': [dem_range], 'stepmode': 'fixed'}]\n",
    "#plot_sup_dem(10, [sup_range], 10, [dem_range], 'fixed')\n",
    "order_sched = {'sup': supply_schedule, 'dem': demand_schedule, 'interval': 5, 'timemode': 'drip-poisson' }\n",
    "\n",
    "list_averages_k4 = {}\n",
    "list_averages2_k4 = {}\n",
    "F_values = [0.1, 0.2, 0.3, 0.4, 0.5, 0.6, 0.7, 0.8, 0.9, 1.0]\n",
    "#F_values = [1.1, 1.2, 1.3, 1.4, 1.5, 1.6, 1.7, 1.8, 1.9, 2.0]\n",
    "for k in [5]:\n",
    "    for F in F_values:\n",
    "        trial = 0\n",
    "        list_exp = np.empty(0)\n",
    "        list_prde = np.empty(0)\n",
    "\n",
    "        while (trial < 3):\n",
    "            trial_id = f'exp_k={k}_F={F}_trail={trial}'\n",
    "            buyers_spec = [('PRDE_EXP', 10, {'k': k, 's_min': -1.0, 's_max': +1.0, 'F': F}),\n",
    "                ('PRDE', 10, {'k': 4,'s_min': -1.0, 's_max': +1.0, 'F': 0.8})]\n",
    "                \n",
    "            sellers_spec = buyers_spec\n",
    "            traders_spec = {'sellers':sellers_spec, 'buyers':buyers_spec}\n",
    "            \n",
    "            market_session(trial_id, start_time, end_time, traders_spec, order_sched, tdump, dump_all, verbose)\n",
    "            \n",
    "            sum_prde_buy = 0\n",
    "            sum_exp_buy = 0\n",
    "            sum_prde_sell = 0\n",
    "            sum_exp_sell = 0\n",
    "            nr_trader = 0\n",
    "            y_prde = np.empty(0)\n",
    "            y_exp = np.empty(0)\n",
    "            \n",
    "            with open(trial_id + '_exp.csv', newline='') as csvfile:\n",
    "                reader = csv.reader(csvfile)\n",
    "                for row in reader:\n",
    "                    time = float(row[0])\n",
    "                    sum_prde_buy += float(row[1])\n",
    "                    sum_prde_sell += float(row[2])\n",
    "                    sum_exp_buy += float(row[3])\n",
    "                    sum_exp_sell += float(row[4]) \n",
    "                    nr_trader += 1\n",
    "                    y_prde = np.append(y_prde, (sum_prde_buy+ sum_prde_sell)/nr_trader)\n",
    "                    y_exp = np.append(y_exp, (sum_exp_buy + sum_exp_sell)/nr_trader)\n",
    "\n",
    "            list_exp = np.append(list_exp, y_exp[-1])\n",
    "            list_prde = np.append(list_prde, y_prde[-1])\n",
    "\n",
    "            trial += 1\n",
    "\n",
    "        average_exp = np.mean(list_exp)\n",
    "        average_prde = np.mean(list_prde)\n",
    "        list_averages_k4[F] = average_exp \n",
    "        list_averages2_k4[F] = average_prde\n"
   ]
  },
  {
   "cell_type": "code",
   "execution_count": null,
   "metadata": {},
   "outputs": [],
   "source": [
    "import matplotlib.pyplot as plt\n",
    "import numpy as np\n",
    "import csv\n",
    "import math\n",
    "import random\n",
    "\n",
    "from BSE import market_session"
   ]
  },
  {
   "cell_type": "code",
   "execution_count": null,
   "metadata": {},
   "outputs": [],
   "source": [
    "list_averages_k4"
   ]
  },
  {
   "cell_type": "code",
   "execution_count": null,
   "metadata": {},
   "outputs": [],
   "source": [
    "list_averages2_k4"
   ]
  },
  {
   "cell_type": "code",
   "execution_count": null,
   "metadata": {},
   "outputs": [],
   "source": [
    "# Multiple trials with best configuration.\n",
    "sup_range = (60, 60)\n",
    "dem_range = (140, 140)\n",
    "start_time = 0 \n",
    "end_time = 60 * 60 * 24 * 5\n",
    "\n",
    "supply_schedule = [{'from': start_time, 'to': end_time, 'ranges': [sup_range], 'stepmode': 'fixed'}]\n",
    "demand_schedule = [{'from': start_time, 'to': end_time, 'ranges': [dem_range], 'stepmode': 'fixed'}]\n",
    "#plot_sup_dem(10, [sup_range], 10, [dem_range], 'fixed')\n",
    "order_sched = {'sup': supply_schedule, 'dem': demand_schedule, 'interval': 5, 'timemode': 'drip-poisson' }\n",
    "\n",
    "trial = 0\n",
    "k = 4\n",
    "F = 1.7\n",
    "list_exp = np.empty(0)\n",
    "list_prde = np.empty(0)\n",
    "\n",
    "while (trial < 30):\n",
    "    trial_id = f'best3_exp_k={k}_F={F}_trail={trial}'\n",
    "    buyers_spec = [('PRDE_EXP', 10, {'k': k, 's_min': -1.0, 's_max': +1.0, 'F': F}),\n",
    "        ('PRDE', 10, {'k': 4,'s_min': -1.0, 's_max': +1.0, 'F': 0.8})]            \n",
    "    sellers_spec = buyers_spec\n",
    "    traders_spec = {'sellers':sellers_spec, 'buyers':buyers_spec}\n",
    "            \n",
    "    market_session(trial_id, start_time, end_time, traders_spec, order_sched, tdump, dump_all, verbose)\n",
    "            \n",
    "    sum_prde_buy = 0\n",
    "    sum_exp_buy = 0\n",
    "    sum_prde_sell = 0\n",
    "    sum_exp_sell = 0\n",
    "    nr_trader = 0\n",
    "    y_prde = np.empty(0)\n",
    "    y_exp = np.empty(0)\n",
    "            \n",
    "    with open(trial_id + '_exp.csv', newline='') as csvfile:\n",
    "        reader = csv.reader(csvfile)\n",
    "        for row in reader:\n",
    "            time = float(row[0])\n",
    "            sum_prde_buy += float(row[1])\n",
    "            sum_prde_sell += float(row[2])\n",
    "            sum_exp_buy += float(row[3])\n",
    "            sum_exp_sell += float(row[4]) \n",
    "            nr_trader += 1\n",
    "            y_prde = np.append(y_prde, (sum_prde_buy+ sum_prde_sell)/nr_trader)\n",
    "            y_exp = np.append(y_exp, (sum_exp_buy + sum_exp_sell)/nr_trader)\n",
    "\n",
    "    list_exp = np.append(list_exp, y_exp[-1])\n",
    "    list_prde = np.append(list_prde, y_prde[-1])\n",
    "\n",
    "    trial += 1\n"
   ]
  },
  {
   "cell_type": "code",
   "execution_count": null,
   "metadata": {},
   "outputs": [],
   "source": [
    "list_exp"
   ]
  },
  {
   "cell_type": "code",
   "execution_count": null,
   "metadata": {},
   "outputs": [],
   "source": [
    "list_prde"
   ]
  },
  {
   "cell_type": "code",
   "execution_count": null,
   "metadata": {},
   "outputs": [],
   "source": [
    "# Multiple trials with best configuration. - Homo\n",
    "sup_range = (60, 60)\n",
    "dem_range = (140, 140)\n",
    "start_time = 0 \n",
    "end_time = 60 * 60 * 24 * 5\n",
    "\n",
    "supply_schedule = [{'from': start_time, 'to': end_time, 'ranges': [sup_range], 'stepmode': 'fixed'}]\n",
    "demand_schedule = [{'from': start_time, 'to': end_time, 'ranges': [dem_range], 'stepmode': 'fixed'}]\n",
    "#plot_sup_dem(10, [sup_range], 10, [dem_range], 'fixed')\n",
    "order_sched = {'sup': supply_schedule, 'dem': demand_schedule, 'interval': 5, 'timemode': 'drip-poisson' }\n",
    "\n",
    "trial = 0\n",
    "k = 4\n",
    "F = 1.7\n",
    "list_exp = np.empty(0)\n",
    "list_prde = np.empty(0)\n",
    "\n",
    "while (trial < 30):\n",
    "    trial_id = f'homo1_exp_k={k}_F={F}_trail={trial}'\n",
    "    buyers_spec = [('PRDE_EXP', 20, {'k': k, 's_min': -1.0, 's_max': +1.0, 'F': F})]            \n",
    "    sellers_spec = buyers_spec\n",
    "    traders_spec = {'sellers':sellers_spec, 'buyers':buyers_spec}\n",
    "            \n",
    "    market_session(trial_id, start_time, end_time, traders_spec, order_sched, tdump, dump_all, verbose)\n",
    "            \n",
    "    sum_prde_buy = 0\n",
    "    sum_exp_buy = 0\n",
    "    sum_prde_sell = 0\n",
    "    sum_exp_sell = 0\n",
    "    nr_trader = 0\n",
    "    y_prde = np.empty(0)\n",
    "    y_exp = np.empty(0)\n",
    "            \n",
    "    with open(trial_id + '_exp.csv', newline='') as csvfile:\n",
    "        reader = csv.reader(csvfile)\n",
    "        for row in reader:\n",
    "            time = float(row[0])\n",
    "            sum_prde_buy += float(row[1])\n",
    "            sum_prde_sell += float(row[2])\n",
    "            sum_exp_buy += float(row[3])\n",
    "            sum_exp_sell += float(row[4]) \n",
    "            nr_trader += 1\n",
    "            y_prde = np.append(y_prde, (sum_prde_buy+ sum_prde_sell)/nr_trader)\n",
    "            y_exp = np.append(y_exp, (sum_exp_buy + sum_exp_sell)/nr_trader)\n",
    "\n",
    "    list_exp = np.append(list_exp, y_exp[-1])\n",
    "    list_prde = np.append(list_prde, y_prde[-1])\n",
    "\n",
    "    trial += 1\n"
   ]
  },
  {
   "cell_type": "code",
   "execution_count": null,
   "metadata": {},
   "outputs": [],
   "source": [
    "list_exp"
   ]
  },
  {
   "cell_type": "code",
   "execution_count": null,
   "metadata": {},
   "outputs": [],
   "source": [
    "list_exp_run2 = np.array([219.73731686, 195.78310716, 199.00166819, 207.15599756,\n",
    "       213.47588342, 207.77225487, 206.48169332, 208.48694811,\n",
    "       204.60586401, 206.27654132, 202.65214727, 207.93034845,\n",
    "       197.02173355, 205.68920294, 201.50009776, 208.65577641,\n",
    "       200.14128848, 206.87370644, 208.34277439, 196.45373411,\n",
    "       195.82440749, 201.66676114, 211.36463953, 208.40183921,\n",
    "       208.03234013, 209.83006514, 202.81852836, 199.22866234,\n",
    "       203.43651579, 199.54620819])\n",
    "list_exp= np.array([210.14181701, 217.45919673, 201.38914978, 204.33505895,\n",
    "       209.17051891, 195.87969043, 213.32086094, 197.97382769,\n",
    "       203.87990408, 209.96325362, 195.60198078, 199.56262887,\n",
    "       196.11618614, 200.82029174, 219.67565385, 205.12903717,\n",
    "       205.80330146, 213.27239651, 195.48742442, 203.2575734 ,\n",
    "       200.40283363, 190.32876332, 203.42122191, 195.19393667,\n",
    "       210.2943569 , 217.63607493, 208.01721736, 196.63782499,\n",
    "       203.99253983, 199.20284789])\n",
    "homo_runs_exp = np.concatenate((list_exp, list_exp_run2))"
   ]
  },
  {
   "cell_type": "code",
   "execution_count": null,
   "metadata": {},
   "outputs": [],
   "source": [
    "len(homo_runs_exp)"
   ]
  },
  {
   "cell_type": "code",
   "execution_count": null,
   "metadata": {},
   "outputs": [],
   "source": [
    "homo_runs_prde=np.array([191.20468248, 201.46840623, 204.12006846, 202.67824206,\n",
    "       215.20882272, 193.21321011, 201.58395777, 210.04510336,\n",
    "       199.43632659, 201.45744896, 204.14624692, 207.19014129,\n",
    "       194.85489956, 195.41309855, 201.90306893, 198.88254783,\n",
    "       201.8114704 , 188.32256614, 190.50883925, 195.87775585,\n",
    "       211.10987834, 205.46533647, 202.90798287, 190.75233844,\n",
    "       206.7725368 , 204.09789787, 205.40529425, 207.2956097 ,\n",
    "       202.24882048, 203.89227939, 210.13756053, 205.11793678,\n",
    "       200.0716014 , 204.87094633, 206.47756886, 200.08312084,\n",
    "       196.30857204, 201.79483061, 200.2035266 , 200.45944825,\n",
    "       208.1512514 , 193.72283709, 196.39745324, 208.80565518,\n",
    "       207.57728877, 198.90613936, 201.0029853 , 197.65761055,\n",
    "       205.15972207, 204.51446503, 193.47843118, 201.64027292,\n",
    "       203.28839736, 194.44206378, 202.41592294, 189.53429154,\n",
    "       200.39510633, 200.88351334, 195.55478007, 193.60636343])"
   ]
  },
  {
   "cell_type": "code",
   "execution_count": null,
   "metadata": {},
   "outputs": [],
   "source": [
    "# import some useful libraries to help us wrangle data, \n",
    "# plot data, and perform statistial analysis \n",
    "import scipy as sp\n",
    "from scipy import stats\n",
    "import seaborn as sns \n",
    "import matplotlib.pyplot as plt \n",
    "import statsmodels.api as sm\n",
    "import pandas as pd"
   ]
  },
  {
   "cell_type": "code",
   "execution_count": null,
   "metadata": {},
   "outputs": [],
   "source": [
    "len(homo_runs_exp)"
   ]
  },
  {
   "cell_type": "code",
   "execution_count": null,
   "metadata": {},
   "outputs": [],
   "source": [
    "# Use seaborn to create a violin plot\n",
    "ax = sns.violinplot(data=pd.DataFrame(data={\"PRDE A\": homo_runs_prde, \"PRDE B\": homo_runs_exp}), inner='box')\n",
    "# Label our axes appropriately\n",
    "ax.set_title(\"Profits by trading algorithm\")\n",
    "ax.set_ylabel(\"Average profit per second\")\n",
    "ax.set_xlabel(\"Algorithm\")\n",
    "\n",
    "plt.show()"
   ]
  },
  {
   "cell_type": "code",
   "execution_count": null,
   "metadata": {},
   "outputs": [],
   "source": [
    "sns.barplot(data=[homo_runs_exp, homo_runs_prde])"
   ]
  },
  {
   "cell_type": "code",
   "execution_count": null,
   "metadata": {},
   "outputs": [],
   "source": [
    "# Shapiro-Wilk test tests the null hypothesis that \n",
    "# the data was drawn from a normal distribution\n",
    "\n",
    "print(\"Using Shapiro-Wilk test to test the null hypothesis \" +\n",
    "      \"that the data was drawn from a normal distribution:\")\n",
    "\n",
    "statistic, pvalue = stats.shapiro(homo_runs_prde)\n",
    "if pvalue < 0.05:\n",
    "      print(\"Condition \" + \"{:}\" + \n",
    "            \". We can reject the null hypothesis (p=\" + \n",
    "            \"{:.2f}\".format(pvalue) + \n",
    "            \"). Therefore, data is not normally distributed.\")\n",
    "else:\n",
    "        print(\"Condition \" + \"{:}\" + \n",
    "              \". We cannot reject the null hypothesis (p=\" + \n",
    "              \"{:.2f}\".format(pvalue) + \n",
    "              \"). Therefore, data is normally distributed.\")"
   ]
  },
  {
   "cell_type": "code",
   "execution_count": null,
   "metadata": {},
   "outputs": [],
   "source": [
    "# Shapiro-Wilk test tests the null hypothesis that \n",
    "# the data was drawn from a normal distribution\n",
    "\n",
    "print(\"Using Shapiro-Wilk test to test the null hypothesis \" +\n",
    "      \"that the data was drawn from a normal distribution:\")\n",
    "\n",
    "statistic, pvalue = stats.shapiro(homo_runs_exp)\n",
    "if pvalue < 0.05:\n",
    "      print(\"Condition \" + \"{:}\" + \n",
    "            \". We can reject the null hypothesis (p=\" + \n",
    "            \"{:.2f}\".format(pvalue) + \n",
    "            \"). Therefore, data is not normally distributed.\")\n",
    "else:\n",
    "        print(\"Condition \" + \"{:}\" + \n",
    "              \". We cannot reject the null hypothesis (p=\" + \n",
    "              \"{:.2f}\".format(pvalue) + \n",
    "              \"). Therefore, data is normally distributed.\")"
   ]
  },
  {
   "cell_type": "code",
   "execution_count": null,
   "metadata": {},
   "outputs": [],
   "source": [
    "# Use stats package from scipy to perform ANOVA \n",
    "statistic, pvalue = stats.f_oneway(homo_runs_exp, homo_runs_prde)\n",
    "if pvalue < 0.05:\n",
    "    print(\"ANOVA: (p=\" + \"{:.2f}\".format(pvalue) + \n",
    "          \" < 0.05). Reject null. The groups have a \" +\n",
    "          \"different population mean.\") \n",
    "else:\n",
    "    print(\"ANOVA: (p=\" + \"{:.2f}\".format(pvalue) + \n",
    "          \" > 0.05). Cannot reject null hypothesis \" + \n",
    "          \"that groups have same population mean.\")"
   ]
  },
  {
   "cell_type": "code",
   "execution_count": null,
   "metadata": {},
   "outputs": [],
   "source": [
    "#T-test - check if the result is said to be statically significant\n",
    "pvalue = stats.ttest_ind(homo_runs_exp, homo_runs_prde).pvalue\n",
    "\n",
    "print(pvalue < 0.05)\n",
    "print(pvalue)"
   ]
  },
  {
   "cell_type": "code",
   "execution_count": null,
   "metadata": {},
   "outputs": [],
   "source": []
  }
 ],
 "metadata": {
  "kernelspec": {
   "display_name": "Python 3.10.6 ('fintech')",
   "language": "python",
   "name": "python3"
  },
  "language_info": {
   "codemirror_mode": {
    "name": "ipython",
    "version": 3
   },
   "file_extension": ".py",
   "mimetype": "text/x-python",
   "name": "python",
   "nbconvert_exporter": "python",
   "pygments_lexer": "ipython3",
   "version": "3.10.6"
  },
  "orig_nbformat": 4,
  "vscode": {
   "interpreter": {
    "hash": "83f5bd2cf41ed97851418d308cd2f59035025759cefec9d87d44bc2238145a55"
   }
  }
 },
 "nbformat": 4,
 "nbformat_minor": 2
}
